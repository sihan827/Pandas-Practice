{
 "cells": [
  {
   "attachments": {},
   "cell_type": "markdown",
   "metadata": {},
   "source": [
    "### Seoul Covid-19 Occurance Analysis"
   ]
  },
  {
   "cell_type": "code",
   "execution_count": 1,
   "metadata": {},
   "outputs": [],
   "source": [
    "import pandas as pd\n",
    "import numpy as np\n",
    "import matplotlib as mpl\n",
    "import matplotlib.pyplot as plt"
   ]
  },
  {
   "attachments": {},
   "cell_type": "markdown",
   "metadata": {},
   "source": [
    "#### 1. 2020/06/30까지의 서울 코로나19 발생 데이터 불러오기"
   ]
  },
  {
   "cell_type": "code",
   "execution_count": 6,
   "metadata": {},
   "outputs": [
    {
     "data": {
      "text/plain": [
       "(1321, 7)"
      ]
     },
     "execution_count": 6,
     "metadata": {},
     "output_type": "execute_result"
    }
   ],
   "source": [
    "# 데이터 csv 파일 읽어오기\n",
    "df = pd.read_csv(\"./seoul-covid19_6_30_.csv\")\n",
    "df.shape"
   ]
  },
  {
   "cell_type": "code",
   "execution_count": 12,
   "metadata": {},
   "outputs": [
    {
     "data": {
      "text/html": [
       "<div>\n",
       "<style scoped>\n",
       "    .dataframe tbody tr th:only-of-type {\n",
       "        vertical-align: middle;\n",
       "    }\n",
       "\n",
       "    .dataframe tbody tr th {\n",
       "        vertical-align: top;\n",
       "    }\n",
       "\n",
       "    .dataframe thead th {\n",
       "        text-align: right;\n",
       "    }\n",
       "</style>\n",
       "<table border=\"1\" class=\"dataframe\">\n",
       "  <thead>\n",
       "    <tr style=\"text-align: right;\">\n",
       "      <th></th>\n",
       "      <th>연번</th>\n",
       "      <th>환자</th>\n",
       "      <th>확진일</th>\n",
       "      <th>거주지</th>\n",
       "      <th>여행력</th>\n",
       "      <th>접촉력</th>\n",
       "      <th>조치사항</th>\n",
       "    </tr>\n",
       "  </thead>\n",
       "  <tbody>\n",
       "    <tr>\n",
       "      <th>0</th>\n",
       "      <td>1321</td>\n",
       "      <td>12830</td>\n",
       "      <td>6.30.</td>\n",
       "      <td>영등포구</td>\n",
       "      <td>-</td>\n",
       "      <td>영등포구 확진자 접촉</td>\n",
       "      <td>-</td>\n",
       "    </tr>\n",
       "    <tr>\n",
       "      <th>1</th>\n",
       "      <td>1320</td>\n",
       "      <td>12829</td>\n",
       "      <td>6.30.</td>\n",
       "      <td>관악구</td>\n",
       "      <td>-</td>\n",
       "      <td>확인 중</td>\n",
       "      <td>보라매병원</td>\n",
       "    </tr>\n",
       "    <tr>\n",
       "      <th>2</th>\n",
       "      <td>1319</td>\n",
       "      <td>12831</td>\n",
       "      <td>6.30.</td>\n",
       "      <td>영등포구</td>\n",
       "      <td>-</td>\n",
       "      <td>확인 중</td>\n",
       "      <td>중앙대학교병원</td>\n",
       "    </tr>\n",
       "    <tr>\n",
       "      <th>3</th>\n",
       "      <td>1318</td>\n",
       "      <td>12808</td>\n",
       "      <td>6.30.</td>\n",
       "      <td>관악구</td>\n",
       "      <td>-</td>\n",
       "      <td>강남구 역삼동 모임</td>\n",
       "      <td>보라매병원</td>\n",
       "    </tr>\n",
       "    <tr>\n",
       "      <th>4</th>\n",
       "      <td>1317</td>\n",
       "      <td>12809</td>\n",
       "      <td>6.30.</td>\n",
       "      <td>관악구</td>\n",
       "      <td>-</td>\n",
       "      <td>강남구 역삼동 모임</td>\n",
       "      <td>보라매병원</td>\n",
       "    </tr>\n",
       "    <tr>\n",
       "      <th>...</th>\n",
       "      <td>...</td>\n",
       "      <td>...</td>\n",
       "      <td>...</td>\n",
       "      <td>...</td>\n",
       "      <td>...</td>\n",
       "      <td>...</td>\n",
       "      <td>...</td>\n",
       "    </tr>\n",
       "    <tr>\n",
       "      <th>1316</th>\n",
       "      <td>5</td>\n",
       "      <td>9</td>\n",
       "      <td>1.31.</td>\n",
       "      <td>성북구</td>\n",
       "      <td>-</td>\n",
       "      <td>#5 접촉</td>\n",
       "      <td>서울의료원(퇴원)</td>\n",
       "    </tr>\n",
       "    <tr>\n",
       "      <th>1317</th>\n",
       "      <td>4</td>\n",
       "      <td>7</td>\n",
       "      <td>1.30.</td>\n",
       "      <td>마포구</td>\n",
       "      <td>중국 우한시</td>\n",
       "      <td>해외 접촉</td>\n",
       "      <td>서울의료원(퇴원)</td>\n",
       "    </tr>\n",
       "    <tr>\n",
       "      <th>1318</th>\n",
       "      <td>3</td>\n",
       "      <td>6</td>\n",
       "      <td>1.30.</td>\n",
       "      <td>종로구</td>\n",
       "      <td>-</td>\n",
       "      <td>#3 접촉</td>\n",
       "      <td>서울대학교병원(퇴원)</td>\n",
       "    </tr>\n",
       "    <tr>\n",
       "      <th>1319</th>\n",
       "      <td>2</td>\n",
       "      <td>5</td>\n",
       "      <td>1.30.</td>\n",
       "      <td>중랑구</td>\n",
       "      <td>중국 우한시</td>\n",
       "      <td>해외 접촉</td>\n",
       "      <td>서울의료원(퇴원)</td>\n",
       "    </tr>\n",
       "    <tr>\n",
       "      <th>1320</th>\n",
       "      <td>1</td>\n",
       "      <td>2</td>\n",
       "      <td>1.24.</td>\n",
       "      <td>강서구</td>\n",
       "      <td>중국 우한시</td>\n",
       "      <td>해외 접촉</td>\n",
       "      <td>국립중앙의료원(퇴원)</td>\n",
       "    </tr>\n",
       "  </tbody>\n",
       "</table>\n",
       "<p>1321 rows × 7 columns</p>\n",
       "</div>"
      ],
      "text/plain": [
       "        연번     환자    확진일   거주지     여행력          접촉력         조치사항\n",
       "0     1321  12830  6.30.  영등포구       -  영등포구 확진자 접촉            -\n",
       "1     1320  12829  6.30.   관악구       -         확인 중        보라매병원\n",
       "2     1319  12831  6.30.  영등포구       -         확인 중      중앙대학교병원\n",
       "3     1318  12808  6.30.   관악구       -   강남구 역삼동 모임        보라매병원\n",
       "4     1317  12809  6.30.   관악구       -   강남구 역삼동 모임        보라매병원\n",
       "...    ...    ...    ...   ...     ...          ...          ...\n",
       "1316     5      9  1.31.   성북구       -        #5 접촉    서울의료원(퇴원)\n",
       "1317     4      7  1.30.   마포구  중국 우한시        해외 접촉    서울의료원(퇴원)\n",
       "1318     3      6  1.30.   종로구       -        #3 접촉  서울대학교병원(퇴원)\n",
       "1319     2      5  1.30.   중랑구  중국 우한시        해외 접촉    서울의료원(퇴원)\n",
       "1320     1      2  1.24.   강서구  중국 우한시        해외 접촉  국립중앙의료원(퇴원)\n",
       "\n",
       "[1321 rows x 7 columns]"
      ]
     },
     "execution_count": 12,
     "metadata": {},
     "output_type": "execute_result"
    }
   ],
   "source": [
    "# '연번' 컬럼으로 정렬하기\n",
    "df = df.sort_values(by='연번', ascending=False)\n",
    "df"
   ]
  },
  {
   "attachments": {},
   "cell_type": "markdown",
   "metadata": {},
   "source": [
    "#### 2. 시각화 도구 불러오기"
   ]
  },
  {
   "cell_type": "code",
   "execution_count": null,
   "metadata": {},
   "outputs": [],
   "source": [
    "# matplotlib.pyplot.rc로 한글폰트 설정\n",
    "# plt.style.use로 'fivethirtyeight' 스타일 사용\n",
    "plt.rc('font', familty='Malgum Gothic')\n",
    "plt.rc('axes', unicode_minus=False)"
   ]
  },
  {
   "attachments": {},
   "cell_type": "markdown",
   "metadata": {},
   "source": [
    "#### 3. 확진일"
   ]
  },
  {
   "cell_type": "code",
   "execution_count": 14,
   "metadata": {},
   "outputs": [
    {
     "data": {
      "text/plain": [
       "3.10.    46\n",
       "6.12.    30\n",
       "6.06.    29\n",
       "6.05.    27\n",
       "3.9.     26\n",
       "         ..\n",
       "4.20.     1\n",
       "4.19.     1\n",
       "4.18.     1\n",
       "4.15.     1\n",
       "1.24.     1\n",
       "Name: 확진일, Length: 131, dtype: int64"
      ]
     },
     "execution_count": 14,
     "metadata": {},
     "output_type": "execute_result"
    }
   ],
   "source": [
    "# '확진일' 빈도수 확인\n",
    "df['확진일'].value_counts()"
   ]
  },
  {
   "cell_type": "code",
   "execution_count": 19,
   "metadata": {},
   "outputs": [
    {
     "name": "stderr",
     "output_type": "stream",
     "text": [
      "C:\\Users\\Han\\AppData\\Local\\Temp\\ipykernel_20392\\636754021.py:4: FutureWarning: The default value of regex will change from True to False in a future version. In addition, single character regular expressions will *not* be treated as literal strings when regex=True.\n",
      "  df['확진일자'] = pd.to_datetime('2020-' + df['확진일'].str.replace(\".\", \"-\"))\n"
     ]
    },
    {
     "data": {
      "text/html": [
       "<div>\n",
       "<style scoped>\n",
       "    .dataframe tbody tr th:only-of-type {\n",
       "        vertical-align: middle;\n",
       "    }\n",
       "\n",
       "    .dataframe tbody tr th {\n",
       "        vertical-align: top;\n",
       "    }\n",
       "\n",
       "    .dataframe thead th {\n",
       "        text-align: right;\n",
       "    }\n",
       "</style>\n",
       "<table border=\"1\" class=\"dataframe\">\n",
       "  <thead>\n",
       "    <tr style=\"text-align: right;\">\n",
       "      <th></th>\n",
       "      <th>확진일</th>\n",
       "      <th>확진일자</th>\n",
       "    </tr>\n",
       "  </thead>\n",
       "  <tbody>\n",
       "    <tr>\n",
       "      <th>0</th>\n",
       "      <td>6.30.</td>\n",
       "      <td>2020-06-30</td>\n",
       "    </tr>\n",
       "    <tr>\n",
       "      <th>1</th>\n",
       "      <td>6.30.</td>\n",
       "      <td>2020-06-30</td>\n",
       "    </tr>\n",
       "    <tr>\n",
       "      <th>2</th>\n",
       "      <td>6.30.</td>\n",
       "      <td>2020-06-30</td>\n",
       "    </tr>\n",
       "    <tr>\n",
       "      <th>3</th>\n",
       "      <td>6.30.</td>\n",
       "      <td>2020-06-30</td>\n",
       "    </tr>\n",
       "    <tr>\n",
       "      <th>4</th>\n",
       "      <td>6.30.</td>\n",
       "      <td>2020-06-30</td>\n",
       "    </tr>\n",
       "  </tbody>\n",
       "</table>\n",
       "</div>"
      ],
      "text/plain": [
       "     확진일       확진일자\n",
       "0  6.30. 2020-06-30\n",
       "1  6.30. 2020-06-30\n",
       "2  6.30. 2020-06-30\n",
       "3  6.30. 2020-06-30\n",
       "4  6.30. 2020-06-30"
      ]
     },
     "execution_count": 19,
     "metadata": {},
     "output_type": "execute_result"
    }
   ],
   "source": [
    "# '확진일' 컬럼의 데이터가 오브젝트 형식\n",
    "# datetime 형식으로 변환 필요\n",
    "# 연도가 없으므로 2020년 임의로 추가\n",
    "df['확진일자'] = pd.to_datetime('2020-' + df['확진일'].str.replace(\".\", \"-\"))\n",
    "df[['확진일', '확진일자']].head()"
   ]
  },
  {
   "cell_type": "code",
   "execution_count": 21,
   "metadata": {},
   "outputs": [
    {
     "data": {
      "text/html": [
       "<div>\n",
       "<style scoped>\n",
       "    .dataframe tbody tr th:only-of-type {\n",
       "        vertical-align: middle;\n",
       "    }\n",
       "\n",
       "    .dataframe tbody tr th {\n",
       "        vertical-align: top;\n",
       "    }\n",
       "\n",
       "    .dataframe thead th {\n",
       "        text-align: right;\n",
       "    }\n",
       "</style>\n",
       "<table border=\"1\" class=\"dataframe\">\n",
       "  <thead>\n",
       "    <tr style=\"text-align: right;\">\n",
       "      <th></th>\n",
       "      <th>확진일</th>\n",
       "      <th>확진일자</th>\n",
       "      <th>월</th>\n",
       "    </tr>\n",
       "  </thead>\n",
       "  <tbody>\n",
       "    <tr>\n",
       "      <th>0</th>\n",
       "      <td>6.30.</td>\n",
       "      <td>2020-06-30</td>\n",
       "      <td>6</td>\n",
       "    </tr>\n",
       "    <tr>\n",
       "      <th>1</th>\n",
       "      <td>6.30.</td>\n",
       "      <td>2020-06-30</td>\n",
       "      <td>6</td>\n",
       "    </tr>\n",
       "    <tr>\n",
       "      <th>2</th>\n",
       "      <td>6.30.</td>\n",
       "      <td>2020-06-30</td>\n",
       "      <td>6</td>\n",
       "    </tr>\n",
       "    <tr>\n",
       "      <th>3</th>\n",
       "      <td>6.30.</td>\n",
       "      <td>2020-06-30</td>\n",
       "      <td>6</td>\n",
       "    </tr>\n",
       "    <tr>\n",
       "      <th>4</th>\n",
       "      <td>6.30.</td>\n",
       "      <td>2020-06-30</td>\n",
       "      <td>6</td>\n",
       "    </tr>\n",
       "  </tbody>\n",
       "</table>\n",
       "</div>"
      ],
      "text/plain": [
       "     확진일       확진일자  월\n",
       "0  6.30. 2020-06-30  6\n",
       "1  6.30. 2020-06-30  6\n",
       "2  6.30. 2020-06-30  6\n",
       "3  6.30. 2020-06-30  6\n",
       "4  6.30. 2020-06-30  6"
      ]
     },
     "execution_count": 21,
     "metadata": {},
     "output_type": "execute_result"
    }
   ],
   "source": [
    "# 월만 추출\n",
    "df['월'] = df[\"확진일자\"].dt.month\n",
    "df[['확진일', '확진일자', '월']].head()"
   ]
  },
  {
   "cell_type": "code",
   "execution_count": 25,
   "metadata": {},
   "outputs": [
    {
     "name": "stderr",
     "output_type": "stream",
     "text": [
      "C:\\Users\\Han\\AppData\\Local\\Temp\\ipykernel_20392\\467928631.py:2: FutureWarning: Series.dt.weekofyear and Series.dt.week have been deprecated. Please use Series.dt.isocalendar().week instead.\n",
      "  df['주'] = df['확진일자'].dt.week\n"
     ]
    },
    {
     "data": {
      "text/html": [
       "<div>\n",
       "<style scoped>\n",
       "    .dataframe tbody tr th:only-of-type {\n",
       "        vertical-align: middle;\n",
       "    }\n",
       "\n",
       "    .dataframe tbody tr th {\n",
       "        vertical-align: top;\n",
       "    }\n",
       "\n",
       "    .dataframe thead th {\n",
       "        text-align: right;\n",
       "    }\n",
       "</style>\n",
       "<table border=\"1\" class=\"dataframe\">\n",
       "  <thead>\n",
       "    <tr style=\"text-align: right;\">\n",
       "      <th></th>\n",
       "      <th>확진일</th>\n",
       "      <th>확진일자</th>\n",
       "      <th>월</th>\n",
       "      <th>주</th>\n",
       "    </tr>\n",
       "  </thead>\n",
       "  <tbody>\n",
       "    <tr>\n",
       "      <th>0</th>\n",
       "      <td>6.30.</td>\n",
       "      <td>2020-06-30</td>\n",
       "      <td>6</td>\n",
       "      <td>27</td>\n",
       "    </tr>\n",
       "    <tr>\n",
       "      <th>1</th>\n",
       "      <td>6.30.</td>\n",
       "      <td>2020-06-30</td>\n",
       "      <td>6</td>\n",
       "      <td>27</td>\n",
       "    </tr>\n",
       "    <tr>\n",
       "      <th>2</th>\n",
       "      <td>6.30.</td>\n",
       "      <td>2020-06-30</td>\n",
       "      <td>6</td>\n",
       "      <td>27</td>\n",
       "    </tr>\n",
       "    <tr>\n",
       "      <th>3</th>\n",
       "      <td>6.30.</td>\n",
       "      <td>2020-06-30</td>\n",
       "      <td>6</td>\n",
       "      <td>27</td>\n",
       "    </tr>\n",
       "    <tr>\n",
       "      <th>4</th>\n",
       "      <td>6.30.</td>\n",
       "      <td>2020-06-30</td>\n",
       "      <td>6</td>\n",
       "      <td>27</td>\n",
       "    </tr>\n",
       "  </tbody>\n",
       "</table>\n",
       "</div>"
      ],
      "text/plain": [
       "     확진일       확진일자  월   주\n",
       "0  6.30. 2020-06-30  6  27\n",
       "1  6.30. 2020-06-30  6  27\n",
       "2  6.30. 2020-06-30  6  27\n",
       "3  6.30. 2020-06-30  6  27\n",
       "4  6.30. 2020-06-30  6  27"
      ]
     },
     "execution_count": 25,
     "metadata": {},
     "output_type": "execute_result"
    }
   ],
   "source": [
    "# 2020년 몇번째 주인지 추출\n",
    "df['주'] = df['확진일자'].dt.week\n",
    "df[['확진일', '확진일자', '월', '주']].head()"
   ]
  }
 ],
 "metadata": {
  "kernelspec": {
   "display_name": "base",
   "language": "python",
   "name": "python3"
  },
  "language_info": {
   "codemirror_mode": {
    "name": "ipython",
    "version": 3
   },
   "file_extension": ".py",
   "mimetype": "text/x-python",
   "name": "python",
   "nbconvert_exporter": "python",
   "pygments_lexer": "ipython3",
   "version": "3.9.13"
  },
  "orig_nbformat": 4,
  "vscode": {
   "interpreter": {
    "hash": "83db2342385cf2bd41f1eb49df0091e0e69eaad3390aeaaf3bdb9725b3e9db76"
   }
  }
 },
 "nbformat": 4,
 "nbformat_minor": 2
}
