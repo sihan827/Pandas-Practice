{
 "cells": [
  {
   "cell_type": "code",
   "execution_count": 1,
   "metadata": {},
   "outputs": [],
   "source": [
    "from sklearn.datasets import load_iris\n",
    "from sklearn.tree import DecisionTreeClassifier\n",
    "from sklearn.model_selection import train_test_split\n",
    "import pandas as pd"
   ]
  },
  {
   "cell_type": "code",
   "execution_count": 4,
   "metadata": {},
   "outputs": [
    {
     "name": "stdout",
     "output_type": "stream",
     "text": [
      "['setosa' 'versicolor' 'virginica']\n"
     ]
    },
    {
     "data": {
      "text/html": [
       "<div>\n",
       "<style scoped>\n",
       "    .dataframe tbody tr th:only-of-type {\n",
       "        vertical-align: middle;\n",
       "    }\n",
       "\n",
       "    .dataframe tbody tr th {\n",
       "        vertical-align: top;\n",
       "    }\n",
       "\n",
       "    .dataframe thead th {\n",
       "        text-align: right;\n",
       "    }\n",
       "</style>\n",
       "<table border=\"1\" class=\"dataframe\">\n",
       "  <thead>\n",
       "    <tr style=\"text-align: right;\">\n",
       "      <th></th>\n",
       "      <th>sepal length (cm)</th>\n",
       "      <th>sepal width (cm)</th>\n",
       "      <th>petal length (cm)</th>\n",
       "      <th>petal width (cm)</th>\n",
       "      <th>label</th>\n",
       "    </tr>\n",
       "  </thead>\n",
       "  <tbody>\n",
       "    <tr>\n",
       "      <th>0</th>\n",
       "      <td>5.1</td>\n",
       "      <td>3.5</td>\n",
       "      <td>1.4</td>\n",
       "      <td>0.2</td>\n",
       "      <td>0</td>\n",
       "    </tr>\n",
       "    <tr>\n",
       "      <th>1</th>\n",
       "      <td>4.9</td>\n",
       "      <td>3.0</td>\n",
       "      <td>1.4</td>\n",
       "      <td>0.2</td>\n",
       "      <td>0</td>\n",
       "    </tr>\n",
       "    <tr>\n",
       "      <th>2</th>\n",
       "      <td>4.7</td>\n",
       "      <td>3.2</td>\n",
       "      <td>1.3</td>\n",
       "      <td>0.2</td>\n",
       "      <td>0</td>\n",
       "    </tr>\n",
       "  </tbody>\n",
       "</table>\n",
       "</div>"
      ],
      "text/plain": [
       "   sepal length (cm)  sepal width (cm)  petal length (cm)  petal width (cm)  \\\n",
       "0                5.1               3.5                1.4               0.2   \n",
       "1                4.9               3.0                1.4               0.2   \n",
       "2                4.7               3.2                1.3               0.2   \n",
       "\n",
       "   label  \n",
       "0      0  \n",
       "1      0  \n",
       "2      0  "
      ]
     },
     "execution_count": 4,
     "metadata": {},
     "output_type": "execute_result"
    }
   ],
   "source": [
    "iris = load_iris()\n",
    "\n",
    "# split features and labels\n",
    "iris_data = iris.data\n",
    "iris_label = iris.target\n",
    "\n",
    "# get target label name (class)\n",
    "print(iris.target_names)\n",
    "\n",
    "# get DataFrame from data\n",
    "iris_df = pd.DataFrame(data=iris_data, columns=iris.feature_names)\n",
    "iris_df['label'] = iris_label\n",
    "iris_df.head(3)"
   ]
  },
  {
   "cell_type": "code",
   "execution_count": 5,
   "metadata": {},
   "outputs": [],
   "source": [
    "# split train, test data\n",
    "X_train, X_test, y_train, y_test = train_test_split(iris_data, iris_label, test_size=0.2, random_state=11)"
   ]
  },
  {
   "cell_type": "code",
   "execution_count": 6,
   "metadata": {},
   "outputs": [
    {
     "name": "stdout",
     "output_type": "stream",
     "text": [
      "Accuracy Score: 0.9333333333333333\n"
     ]
    }
   ],
   "source": [
    "# generate DecisionTreeClassifier object\n",
    "dt_clf = DecisionTreeClassifier(random_state=11)\n",
    "\n",
    "# fit data to model\n",
    "dt_clf.fit(X_train, y_train)\n",
    "\n",
    "# get prediction from X_test\n",
    "pred = dt_clf.predict(X_test)\n",
    "\n",
    "# get accuracy score\n",
    "from sklearn.metrics import accuracy_score\n",
    "print(\"Accuracy Score: \" + str(accuracy_score(y_test, pred)))"
   ]
  },
  {
   "cell_type": "markdown",
   "metadata": {},
   "source": [
    "|Module Name|Description|\n",
    "|------------|--------------------------------|\n",
    "|sklearn.datasets|scikit learn example dataset|\n",
    "|sklearn.preprocessing|methods for preprocessing(encoding, regularzation, scaling)|\n",
    "|sklearn.feature_selection|ordering features|\n",
    "|sklearn.feature_extraction|extract vectorized features from image and text|\n",
    "|sklearn.decomposition|methods for dimension like PCA, NMF, Truncated SVD|\n",
    "|sklearn.model_selection|methods for train/test split and GridSearch tuning|\n",
    "|sklearn.metric|methods for evaluation metric like accuracy, precision, recall, ROC-AUC, RMSE|\n",
    "|sklearn.ensemble|ensemble algorithms|\n",
    "|sklearn.linear_model|linear regression, Lasso, Ridge regressions...|\n",
    "|sklearn.naive_bayes|Naive Bayes algorithms|\n",
    "|sklearn.neighbors|K-NN algorithms|\n",
    "|sklearn.svm|support vector machine algorithms|\n",
    "|sklearn.tree|decision tree algorithms|\n",
    "|sklearn.cluster|unsupervised clustering algorithms|\n",
    "|sklearn.pipeline|utilities for pipeline|"
   ]
  },
  {
   "cell_type": "code",
   "execution_count": null,
   "metadata": {},
   "outputs": [],
   "source": [
    "import sklearn.datasets as datasets\n",
    "\n",
    "# load methods get small dataset\n",
    "datasets.load_iris()\n",
    "\n",
    "# fetch methods download big dataset\n",
    "datasets.fetch_covtype()\n",
    "\n",
    "# make methods generate random dataset\n",
    "datasets.make_classification()"
   ]
  },
  {
   "cell_type": "code",
   "execution_count": 17,
   "metadata": {},
   "outputs": [
    {
     "name": "stdout",
     "output_type": "stream",
     "text": [
      "1 accuracy : 1.0\n",
      "2 accuracy : 1.0\n",
      "3 accuracy : 0.9\n",
      "4 accuracy : 0.9333\n",
      "5 accuracy : 0.7333\n",
      "Average accuracy : 0.91332\n"
     ]
    }
   ],
   "source": [
    "# K-Fold Cross Validation\n",
    "from sklearn.tree import DecisionTreeClassifier\n",
    "from sklearn.metrics import accuracy_score\n",
    "from sklearn.model_selection import KFold\n",
    "import numpy as np\n",
    "from sklearn.datasets import load_iris\n",
    "\n",
    "# data, model load\n",
    "iris = load_iris()\n",
    "feature = iris.data\n",
    "label = iris.target\n",
    "dt_clf = DecisionTreeClassifier(random_state=121)\n",
    "\n",
    "# 5 KFold\n",
    "kfold = KFold(n_splits=5)\n",
    "cv_accuracy = []\n",
    "\n",
    "n_iter = 1\n",
    "# execute KFold split\n",
    "for train_idx, val_idx in kfold.split(feature):\n",
    "    X_train, X_val = feature[train_idx], feature[val_idx]\n",
    "    y_train, y_val = label[train_idx], label[val_idx]\n",
    "\n",
    "    dt_clf.fit(X_train, y_train)\n",
    "    pred = dt_clf.predict(X_val)\n",
    "    cv_accuracy.append(np.round(accuracy_score(y_val, pred), 4))\n",
    "    print(str(n_iter) + \" accuracy : \" + str(cv_accuracy[-1]))\n",
    "    n_iter += 1\n",
    "\n",
    "\n",
    "print(\"Average accuracy : \" + str(np.mean(cv_accuracy))) "
   ]
  },
  {
   "cell_type": "code",
   "execution_count": 18,
   "metadata": {},
   "outputs": [
    {
     "name": "stdout",
     "output_type": "stream",
     "text": [
      "1 accuracy : 0.98\n",
      "2 accuracy : 0.92\n",
      "3 accuracy : 0.98\n",
      "Average accuracy : 0.96\n"
     ]
    }
   ],
   "source": [
    "# Stratified K-Fold Cross Validation\n",
    "# split data considering target label's distribution\n",
    "# In classification, Stratified K-Fold is important\n",
    "# In regression, Stratified K-Fold cannot be used\n",
    "from sklearn.model_selection import StratifiedKFold\n",
    "\n",
    "dt_clf = DecisionTreeClassifier(random_state=112)\n",
    "\n",
    "# 3 StratifiedKFold\n",
    "skf = StratifiedKFold(n_splits=3)\n",
    "cv_accuracy = []\n",
    "\n",
    "n_iter = 1\n",
    "# execute StratifiedKFold split\n",
    "for train_idx, val_idx in skf.split(feature, label):\n",
    "    X_train, X_val = feature[train_idx], feature[val_idx]\n",
    "    y_train, y_val = label[train_idx], label[val_idx]\n",
    "\n",
    "    dt_clf.fit(X_train, y_train)\n",
    "    pred = dt_clf.predict(X_val)\n",
    "    cv_accuracy.append(np.round(accuracy_score(y_val, pred), 4))\n",
    "    print(str(n_iter) + \" accuracy : \" + str(cv_accuracy[-1]))\n",
    "    n_iter += 1\n",
    "\n",
    "print(\"Average accuracy : \" + str(np.mean(cv_accuracy))) "
   ]
  }
 ],
 "metadata": {
  "kernelspec": {
   "display_name": "base",
   "language": "python",
   "name": "python3"
  },
  "language_info": {
   "codemirror_mode": {
    "name": "ipython",
    "version": 3
   },
   "file_extension": ".py",
   "mimetype": "text/x-python",
   "name": "python",
   "nbconvert_exporter": "python",
   "pygments_lexer": "ipython3",
   "version": "3.9.13"
  }
 },
 "nbformat": 4,
 "nbformat_minor": 2
}
